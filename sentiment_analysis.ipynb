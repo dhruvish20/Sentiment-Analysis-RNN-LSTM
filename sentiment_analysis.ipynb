{
 "cells": [
  {
   "cell_type": "code",
   "execution_count": 121,
   "id": "1191aace",
   "metadata": {
    "execution": {
     "iopub.execute_input": "2022-12-21T08:07:17.186497Z",
     "iopub.status.busy": "2022-12-21T08:07:17.185713Z",
     "iopub.status.idle": "2022-12-21T08:07:36.631951Z",
     "shell.execute_reply": "2022-12-21T08:07:36.630592Z",
     "shell.execute_reply.started": "2022-12-21T07:35:05.406090Z"
    },
    "papermill": {
     "duration": 19.558927,
     "end_time": "2022-12-21T08:07:36.632332",
     "exception": false,
     "start_time": "2022-12-21T08:07:17.073405",
     "status": "completed"
    },
    "tags": []
   },
   "outputs": [
    {
     "name": "stdout",
     "output_type": "stream",
     "text": [
      "Requirement already satisfied: keras in c:\\users\\idea lab\\appdata\\local\\programs\\python\\python310\\lib\\site-packages (2.9.0)\n",
      "Requirement already satisfied: visualkeras in c:\\users\\idea lab\\appdata\\local\\programs\\python\\python310\\lib\\site-packages (0.0.1)\n",
      "Requirement already satisfied: pillow>=6.2.0 in c:\\users\\idea lab\\appdata\\local\\programs\\python\\python310\\lib\\site-packages (from visualkeras) (9.2.0)\n"
     ]
    }
   ],
   "source": [
    "!pip install keras\n",
    "!pip install visualkeras"
   ]
  },
  {
   "cell_type": "code",
   "execution_count": 122,
   "id": "0d36d092",
   "metadata": {
    "_cell_guid": "b1076dfc-b9ad-4769-8c92-a6c4dae69d19",
    "_uuid": "8f2839f25d086af736a60e9eeb907d3b93b6e0e5",
    "execution": {
     "iopub.execute_input": "2022-12-21T08:07:36.804484Z",
     "iopub.status.busy": "2022-12-21T08:07:36.803896Z",
     "iopub.status.idle": "2022-12-21T08:07:47.986789Z",
     "shell.execute_reply": "2022-12-21T08:07:47.986136Z",
     "shell.execute_reply.started": "2022-12-21T07:35:26.337337Z"
    },
    "papermill": {
     "duration": 11.264672,
     "end_time": "2022-12-21T08:07:47.986931",
     "exception": false,
     "start_time": "2022-12-21T08:07:36.722259",
     "status": "completed"
    },
    "tags": []
   },
   "outputs": [],
   "source": [
    "from __future__ import division, print_function\n",
    "from keras.callbacks import ModelCheckpoint\n",
    "from keras.layers import Dense, Dropout, Reshape, Flatten, concatenate, Input, Embedding, Activation\n",
    "from keras.layers import LSTM\n",
    "from keras.models import Sequential\n",
    "from keras import optimizers\n",
    "from keras.preprocessing.text import Tokenizer\n",
    "from keras_preprocessing.sequence import pad_sequences\n",
    "import tensorflow as tf\n",
    "from keras.models import Model\n",
    "from sklearn.model_selection import train_test_split\n",
    "import numpy as np\n",
    "import pandas as pd\n",
    "import os\n",
    "import collections\n",
    "import re\n",
    "import string"
   ]
  },
  {
   "cell_type": "code",
   "execution_count": 123,
   "id": "02ce4578",
   "metadata": {
    "execution": {
     "iopub.execute_input": "2022-12-21T08:07:48.329598Z",
     "iopub.status.busy": "2022-12-21T08:07:48.328968Z",
     "iopub.status.idle": "2022-12-21T08:07:49.184676Z",
     "shell.execute_reply": "2022-12-21T08:07:49.184007Z",
     "shell.execute_reply.started": "2022-12-21T07:35:35.735739Z"
    },
    "papermill": {
     "duration": 0.941817,
     "end_time": "2022-12-21T08:07:49.184819",
     "exception": false,
     "start_time": "2022-12-21T08:07:48.243002",
     "status": "completed"
    },
    "tags": []
   },
   "outputs": [],
   "source": [
    "df_reddit = pd.read_csv('Reddit_Data.csv')\n",
    "df_twitter = pd.read_csv('Twitter_Data.csv')"
   ]
  },
  {
   "cell_type": "code",
   "execution_count": 124,
   "id": "ff2acaa3",
   "metadata": {
    "execution": {
     "iopub.execute_input": "2022-12-21T08:07:50.275066Z",
     "iopub.status.busy": "2022-12-21T08:07:50.274529Z",
     "iopub.status.idle": "2022-12-21T08:07:50.279042Z",
     "shell.execute_reply": "2022-12-21T08:07:50.279476Z",
     "shell.execute_reply.started": "2022-12-21T07:35:45.339840Z"
    },
    "papermill": {
     "duration": 0.090572,
     "end_time": "2022-12-21T08:07:50.279650",
     "exception": false,
     "start_time": "2022-12-21T08:07:50.189078",
     "status": "completed"
    },
    "tags": []
   },
   "outputs": [],
   "source": [
    "df_twitter.rename(columns = {'clean_text':'clean_comment'}, inplace = True)"
   ]
  },
  {
   "cell_type": "code",
   "execution_count": 125,
   "id": "486aa683",
   "metadata": {
    "execution": {
     "iopub.execute_input": "2022-12-21T08:07:50.581079Z",
     "iopub.status.busy": "2022-12-21T08:07:50.580323Z",
     "iopub.status.idle": "2022-12-21T08:07:50.587796Z",
     "shell.execute_reply": "2022-12-21T08:07:50.588216Z",
     "shell.execute_reply.started": "2022-12-21T07:35:47.731163Z"
    },
    "papermill": {
     "duration": 0.08549,
     "end_time": "2022-12-21T08:07:50.588367",
     "exception": false,
     "start_time": "2022-12-21T08:07:50.502877",
     "status": "completed"
    },
    "tags": []
   },
   "outputs": [
    {
     "data": {
      "text/plain": [
       "((162980, 2), (37249, 2))"
      ]
     },
     "execution_count": 125,
     "metadata": {},
     "output_type": "execute_result"
    }
   ],
   "source": [
    "df_twitter.shape,  df_reddit.shape"
   ]
  },
  {
   "cell_type": "code",
   "execution_count": 126,
   "id": "2f47a0b1",
   "metadata": {
    "execution": {
     "iopub.execute_input": "2022-12-21T08:07:51.206787Z",
     "iopub.status.busy": "2022-12-21T08:07:51.206258Z",
     "iopub.status.idle": "2022-12-21T08:07:51.228137Z",
     "shell.execute_reply": "2022-12-21T08:07:51.227680Z",
     "shell.execute_reply.started": "2022-12-21T07:35:50.336313Z"
    },
    "papermill": {
     "duration": 0.10316,
     "end_time": "2022-12-21T08:07:51.228268",
     "exception": false,
     "start_time": "2022-12-21T08:07:51.125108",
     "status": "completed"
    },
    "tags": []
   },
   "outputs": [
    {
     "name": "stderr",
     "output_type": "stream",
     "text": [
      "C:\\Users\\IDEA Lab\\AppData\\Local\\Temp\\ipykernel_11360\\683143655.py:1: FutureWarning: The frame.append method is deprecated and will be removed from pandas in a future version. Use pandas.concat instead.\n",
      "  df = df_reddit.append(df_twitter).reset_index()\n"
     ]
    }
   ],
   "source": [
    "df = df_reddit.append(df_twitter).reset_index()"
   ]
  },
  {
   "cell_type": "code",
   "execution_count": 127,
   "id": "598d6d4b",
   "metadata": {
    "execution": {
     "iopub.execute_input": "2022-12-21T08:08:01.116404Z",
     "iopub.status.busy": "2022-12-21T08:08:01.050204Z",
     "iopub.status.idle": "2022-12-21T08:08:04.289262Z",
     "shell.execute_reply": "2022-12-21T08:08:04.290166Z",
     "shell.execute_reply.started": "2022-12-21T07:35:59.665674Z"
    },
    "papermill": {
     "duration": 3.891728,
     "end_time": "2022-12-21T08:08:04.290338",
     "exception": false,
     "start_time": "2022-12-21T08:08:00.398610",
     "status": "completed"
    },
    "tags": []
   },
   "outputs": [
    {
     "data": {
      "text/plain": [
       "<AxesSubplot: title={'center': 'String Length Distribution'}, ylabel='Frequency'>"
      ]
     },
     "execution_count": 127,
     "metadata": {},
     "output_type": "execute_result"
    },
    {
     "data": {
      "image/png": "[encoded data removed]",
      "text/plain": [
       "<Figure size 432x288 with 1 Axes>"
      ]
     },
     "metadata": {
      "needs_background": "light"
     },
     "output_type": "display_data"
    }
   ],
   "source": [
    "pd.DataFrame(df['clean_comment'].str.len())['clean_comment'].plot(\n",
    "    kind='hist',\n",
    "    bins=70,\n",
    "    xlabel='String length',\n",
    "    ylabel='count',\n",
    "    title='String Length Distribution')"
   ]
  },
  {
   "cell_type": "code",
   "execution_count": 128,
   "id": "c1aaa867",
   "metadata": {
    "execution": {
     "iopub.execute_input": "2022-12-21T08:08:08.040583Z",
     "iopub.status.busy": "2022-12-21T08:08:08.039734Z",
     "iopub.status.idle": "2022-12-21T08:08:12.798718Z",
     "shell.execute_reply": "2022-12-21T08:08:12.799566Z",
     "shell.execute_reply.started": "2022-12-21T07:36:02.493858Z"
    },
    "papermill": {
     "duration": 5.724786,
     "end_time": "2022-12-21T08:08:12.799740",
     "exception": false,
     "start_time": "2022-12-21T08:08:07.074954",
     "status": "completed"
    },
    "tags": []
   },
   "outputs": [
    {
     "data": {
      "text/plain": [
       "<AxesSubplot: title={'center': 'Word Count Distribution'}, ylabel='Frequency'>"
      ]
     },
     "execution_count": 128,
     "metadata": {},
     "output_type": "execute_result"
    },
    {
     "data": {
      "image/png": "[encoded data removed]",
      "text/plain": [
       "<Figure size 432x288 with 1 Axes>"
      ]
     },
     "metadata": {
      "needs_background": "light"
     },
     "output_type": "display_data"
    }
   ],
   "source": [
    "df['word_count'] = df['clean_comment'].str.split().str.len()\n",
    "df['word_count'].plot(\n",
    "    kind='hist',\n",
    "    bins=70,\n",
    "    xlabel='String length',\n",
    "    ylabel='count',\n",
    "    title='Word Count Distribution')"
   ]
  },
  {
   "cell_type": "code",
   "execution_count": 129,
   "id": "585522a4",
   "metadata": {
    "execution": {
     "iopub.execute_input": "2022-12-21T08:08:18.260593Z",
     "iopub.status.busy": "2022-12-21T08:08:18.259805Z",
     "iopub.status.idle": "2022-12-21T08:08:28.770413Z",
     "shell.execute_reply": "2022-12-21T08:08:28.770861Z",
     "shell.execute_reply.started": "2022-12-21T07:36:06.358158Z"
    },
    "papermill": {
     "duration": 11.920575,
     "end_time": "2022-12-21T08:08:28.771012",
     "exception": false,
     "start_time": "2022-12-21T08:08:16.850437",
     "status": "completed"
    },
    "tags": []
   },
   "outputs": [
    {
     "data": {
      "text/plain": [
       "<AxesSubplot: title={'center': 'Top 20 words Combined'}, xlabel='ReviewText', ylabel='Count'>"
      ]
     },
     "execution_count": 129,
     "metadata": {},
     "output_type": "execute_result"
    },
    {
     "data": {
      "image/png": "[encoded data removed]",
      "text/plain": [
       "<Figure size 432x288 with 1 Axes>"
      ]
     },
     "metadata": {
      "needs_background": "light"
     },
     "output_type": "display_data"
    }
   ],
   "source": [
    "from sklearn.feature_extraction.text import CountVectorizer\n",
    "\n",
    "def get_top_n_words(corpus, n=None):\n",
    "    vec = CountVectorizer().fit(corpus)\n",
    "    bag_of_words = vec.transform(corpus)\n",
    "    sum_words = bag_of_words.sum(axis=0) \n",
    "    words_freq = [(word, sum_words[0, idx]) for word, idx in vec.vocabulary_.items()]\n",
    "    words_freq =sorted(words_freq, key = lambda x: x[1], reverse=True)\n",
    "    return words_freq[:n]\n",
    "\n",
    "\n",
    "common_words = get_top_n_words(df['clean_comment'].dropna().tolist(), 20)\n",
    "df1 = pd.DataFrame(common_words, columns = ['ReviewText' , 'count'])\n",
    "df1.groupby('ReviewText').sum()['count'].sort_values(ascending=False).plot(\n",
    "    kind='bar', ylabel='Count', title='Top 20 words Combined')"
   ]
  },
  {
   "cell_type": "code",
   "execution_count": 130,
   "id": "21ec72d9",
   "metadata": {
    "execution": {
     "iopub.execute_input": "2022-12-21T08:09:13.322157Z",
     "iopub.status.busy": "2022-12-21T08:09:13.321610Z",
     "iopub.status.idle": "2022-12-21T08:09:13.326524Z",
     "shell.execute_reply": "2022-12-21T08:09:13.327036Z",
     "shell.execute_reply.started": "2022-12-21T07:36:18.172857Z"
    },
    "papermill": {
     "duration": 1.302267,
     "end_time": "2022-12-21T08:09:13.327197",
     "exception": false,
     "start_time": "2022-12-21T08:09:12.024930",
     "status": "completed"
    },
    "tags": []
   },
   "outputs": [],
   "source": [
    "def rename(val):\n",
    "    if val == -1:\n",
    "        return \"Negative\"\n",
    "    elif val == 0:\n",
    "        return \"Neutral\"\n",
    "    elif val ==1:\n",
    "        return \"Positive\""
   ]
  },
  {
   "cell_type": "code",
   "execution_count": 131,
   "id": "fd3432a1",
   "metadata": {
    "execution": {
     "iopub.execute_input": "2022-12-21T08:09:16.182681Z",
     "iopub.status.busy": "2022-12-21T08:09:16.181736Z",
     "iopub.status.idle": "2022-12-21T08:09:16.299039Z",
     "shell.execute_reply": "2022-12-21T08:09:16.298379Z",
     "shell.execute_reply.started": "2022-12-21T07:36:18.180269Z"
    },
    "papermill": {
     "duration": 1.660674,
     "end_time": "2022-12-21T08:09:16.299179",
     "exception": false,
     "start_time": "2022-12-21T08:09:14.638505",
     "status": "completed"
    },
    "tags": []
   },
   "outputs": [],
   "source": [
    "df['category'] = df['category'].apply(rename)\n",
    "\n",
    "df = df.sample(frac=1)"
   ]
  },
  {
   "cell_type": "code",
   "execution_count": 132,
   "id": "2773a3ce",
   "metadata": {
    "execution": {
     "iopub.execute_input": "2022-12-21T08:09:27.178833Z",
     "iopub.status.busy": "2022-12-21T08:09:27.178262Z",
     "iopub.status.idle": "2022-12-21T08:09:27.528963Z",
     "shell.execute_reply": "2022-12-21T08:09:27.528437Z",
     "shell.execute_reply.started": "2022-12-21T07:36:19.197876Z"
    },
    "papermill": {
     "duration": 1.729116,
     "end_time": "2022-12-21T08:09:27.529106",
     "exception": false,
     "start_time": "2022-12-21T08:09:25.799990",
     "status": "completed"
    },
    "tags": []
   },
   "outputs": [
    {
     "data": {
      "text/html": [
       "<div>\n",
       "<style scoped>\n",
       "    .dataframe tbody tr th:only-of-type {\n",
       "        vertical-align: middle;\n",
       "    }\n",
       "\n",
       "    .dataframe tbody tr th {\n",
       "        vertical-align: top;\n",
       "    }\n",
       "\n",
       "    .dataframe thead th {\n",
       "        text-align: right;\n",
       "    }\n",
       "</style>\n",
       "<table border=\"1\" class=\"dataframe\">\n",
       "  <thead>\n",
       "    <tr style=\"text-align: right;\">\n",
       "      <th></th>\n",
       "      <th>clean_comment</th>\n",
       "      <th>category</th>\n",
       "    </tr>\n",
       "  </thead>\n",
       "  <tbody>\n",
       "    <tr>\n",
       "      <th>count</th>\n",
       "      <td>200125</td>\n",
       "      <td>200222</td>\n",
       "    </tr>\n",
       "    <tr>\n",
       "      <th>unique</th>\n",
       "      <td>199715</td>\n",
       "      <td>3</td>\n",
       "    </tr>\n",
       "    <tr>\n",
       "      <th>top</th>\n",
       "      <td></td>\n",
       "      <td>Positive</td>\n",
       "    </tr>\n",
       "    <tr>\n",
       "      <th>freq</th>\n",
       "      <td>116</td>\n",
       "      <td>88080</td>\n",
       "    </tr>\n",
       "  </tbody>\n",
       "</table>\n",
       "</div>"
      ],
      "text/plain": [
       "       clean_comment  category\n",
       "count         200125    200222\n",
       "unique        199715         3\n",
       "top                   Positive\n",
       "freq             116     88080"
      ]
     },
     "execution_count": 132,
     "metadata": {},
     "output_type": "execute_result"
    }
   ],
   "source": [
    "df[[\"clean_comment\", \"category\"]].describe(include='all')"
   ]
  },
  {
   "cell_type": "code",
   "execution_count": 133,
   "id": "78c4fb91",
   "metadata": {
    "execution": {
     "iopub.execute_input": "2022-12-21T08:09:38.484710Z",
     "iopub.status.busy": "2022-12-21T08:09:38.482951Z",
     "iopub.status.idle": "2022-12-21T08:09:38.495533Z",
     "shell.execute_reply": "2022-12-21T08:09:38.495017Z",
     "shell.execute_reply.started": "2022-12-21T07:36:22.463824Z"
    },
    "papermill": {
     "duration": 1.471052,
     "end_time": "2022-12-21T08:09:38.495671",
     "exception": false,
     "start_time": "2022-12-21T08:09:37.024619",
     "status": "completed"
    },
    "tags": []
   },
   "outputs": [
    {
     "data": {
      "text/plain": [
       "index              0\n",
       "clean_comment    104\n",
       "category           7\n",
       "word_count       104\n",
       "dtype: int64"
      ]
     },
     "execution_count": 133,
     "metadata": {},
     "output_type": "execute_result"
    }
   ],
   "source": [
    "df.isnull().sum()"
   ]
  },
  {
   "cell_type": "code",
   "execution_count": 134,
   "id": "164a0a02",
   "metadata": {
    "execution": {
     "iopub.execute_input": "2022-12-21T08:09:46.560498Z",
     "iopub.status.busy": "2022-12-21T08:09:46.503224Z",
     "iopub.status.idle": "2022-12-21T08:09:46.585149Z",
     "shell.execute_reply": "2022-12-21T08:09:46.584634Z",
     "shell.execute_reply.started": "2022-12-21T07:36:25.604368Z"
    },
    "papermill": {
     "duration": 1.411713,
     "end_time": "2022-12-21T08:09:46.585281",
     "exception": false,
     "start_time": "2022-12-21T08:09:45.173568",
     "status": "completed"
    },
    "tags": []
   },
   "outputs": [
    {
     "data": {
      "text/plain": [
       "(200118, 4)"
      ]
     },
     "execution_count": 134,
     "metadata": {},
     "output_type": "execute_result"
    }
   ],
   "source": [
    "df = df.dropna()\n",
    "df.shape"
   ]
  },
  {
   "cell_type": "code",
   "execution_count": 135,
   "id": "9b825817",
   "metadata": {
    "execution": {
     "iopub.execute_input": "2022-12-21T08:09:52.159476Z",
     "iopub.status.busy": "2022-12-21T08:09:52.158252Z",
     "iopub.status.idle": "2022-12-21T08:09:52.180295Z",
     "shell.execute_reply": "2022-12-21T08:09:52.180804Z",
     "shell.execute_reply.started": "2022-12-21T07:36:29.672089Z"
    },
    "papermill": {
     "duration": 1.45459,
     "end_time": "2022-12-21T08:09:52.180974",
     "exception": false,
     "start_time": "2022-12-21T08:09:50.726384",
     "status": "completed"
    },
    "tags": []
   },
   "outputs": [],
   "source": [
    "abbreviations = {\n",
    "    \"$\" : \" dollar \",\n",
    "    \"€\" : \" euro \",\n",
    "    \"4ao\" : \"for adults only\",\n",
    "    \"a.m\" : \"before midday\",\n",
    "    \"a3\" : \"anytime anywhere anyplace\",\n",
    "    \"aamof\" : \"as a matter of fact\",\n",
    "    \"acct\" : \"account\",\n",
    "    \"adih\" : \"another day in hell\",\n",
    "    \"afaic\" : \"as far as i am concerned\",\n",
    "    \"afaict\" : \"as far as i can tell\",\n",
    "    \"afaik\" : \"as far as i know\",\n",
    "    \"afair\" : \"as far as i remember\",\n",
    "    \"afk\" : \"away from keyboard\",\n",
    "    \"app\" : \"application\",\n",
    "    \"approx\" : \"approximately\",\n",
    "    \"apps\" : \"applications\",\n",
    "    \"asap\" : \"as soon as possible\",\n",
    "    \"asl\" : \"age, sex, location\",\n",
    "    \"atk\" : \"at the keyboard\",\n",
    "    \"ave.\" : \"avenue\",\n",
    "    \"aymm\" : \"are you my mother\",\n",
    "    \"ayor\" : \"at your own risk\", \n",
    "    \"b&b\" : \"bed and breakfast\",\n",
    "    \"b+b\" : \"bed and breakfast\",\n",
    "    \"b.c\" : \"before christ\",\n",
    "    \"b2b\" : \"business to business\",\n",
    "    \"b2c\" : \"business to customer\",\n",
    "    \"b4\" : \"before\",\n",
    "    \"b4n\" : \"bye for now\",\n",
    "    \"b@u\" : \"back at you\",\n",
    "    \"bae\" : \"before anyone else\",\n",
    "    \"bak\" : \"back at keyboard\",\n",
    "    \"bbbg\" : \"bye bye be good\",\n",
    "    \"bbc\" : \"british broadcasting corporation\",\n",
    "    \"bbias\" : \"be back in a second\",\n",
    "    \"bbl\" : \"be back later\",\n",
    "    \"bbs\" : \"be back soon\",\n",
    "    \"be4\" : \"before\",\n",
    "    \"bfn\" : \"bye for now\",\n",
    "    \"blvd\" : \"boulevard\",\n",
    "    \"bout\" : \"about\",\n",
    "    \"brb\" : \"be right back\",\n",
    "    \"bros\" : \"brothers\",\n",
    "    \"brt\" : \"be right there\",\n",
    "    \"bsaaw\" : \"big smile and a wink\",\n",
    "    \"btw\" : \"by the way\",\n",
    "    \"bwl\" : \"bursting with laughter\",\n",
    "    \"c/o\" : \"care of\",\n",
    "    \"cet\" : \"central european time\",\n",
    "    \"cf\" : \"compare\",\n",
    "    \"cia\" : \"central intelligence agency\",\n",
    "    \"csl\" : \"can not stop laughing\",\n",
    "    \"cu\" : \"see you\",\n",
    "    \"cul8r\" : \"see you later\",\n",
    "    \"cv\" : \"curriculum vitae\",\n",
    "    \"cwot\" : \"complete waste of time\",\n",
    "    \"cya\" : \"see you\",\n",
    "    \"cyt\" : \"see you tomorrow\",\n",
    "    \"dae\" : \"does anyone else\",\n",
    "    \"dbmib\" : \"do not bother me i am busy\",\n",
    "    \"diy\" : \"do it yourself\",\n",
    "    \"dm\" : \"direct message\",\n",
    "    \"dwh\" : \"during work hours\",\n",
    "    \"e123\" : \"easy as one two three\",\n",
    "    \"eet\" : \"eastern european time\",\n",
    "    \"eg\" : \"example\",\n",
    "    \"embm\" : \"early morning business meeting\",\n",
    "    \"encl\" : \"enclosed\",\n",
    "    \"encl.\" : \"enclosed\",\n",
    "    \"etc\" : \"and so on\",\n",
    "    \"faq\" : \"frequently asked questions\",\n",
    "    \"fawc\" : \"for anyone who cares\",\n",
    "    \"fb\" : \"facebook\",\n",
    "    \"fc\" : \"fingers crossed\",\n",
    "    \"fig\" : \"figure\",\n",
    "    \"fimh\" : \"forever in my heart\", \n",
    "    \"ft.\" : \"feet\",\n",
    "    \"ft\" : \"featuring\",\n",
    "    \"ftl\" : \"for the loss\",\n",
    "    \"ftw\" : \"for the win\",\n",
    "    \"fwiw\" : \"for what it is worth\",\n",
    "    \"fyi\" : \"for your information\",\n",
    "    \"g9\" : \"genius\",\n",
    "    \"gahoy\" : \"get a hold of yourself\",\n",
    "    \"gal\" : \"get a life\",\n",
    "    \"gcse\" : \"general certificate of secondary education\",\n",
    "    \"gfn\" : \"gone for now\",\n",
    "    \"gg\" : \"good game\",\n",
    "    \"gl\" : \"good luck\",\n",
    "    \"glhf\" : \"good luck have fun\",\n",
    "    \"gmt\" : \"greenwich mean time\",\n",
    "    \"gmta\" : \"great minds think alike\",\n",
    "    \"gn\" : \"good night\",\n",
    "    \"g.o.a.t\" : \"greatest of all time\",\n",
    "    \"goat\" : \"greatest of all time\",\n",
    "    \"goi\" : \"get over it\",\n",
    "    \"gps\" : \"global positioning system\",\n",
    "    \"gr8\" : \"great\",\n",
    "    \"gratz\" : \"congratulations\",\n",
    "    \"gyal\" : \"girl\",\n",
    "    \"h&c\" : \"hot and cold\",\n",
    "    \"hp\" : \"horsepower\",\n",
    "    \"hr\" : \"hour\",\n",
    "    \"hrh\" : \"his royal highness\",\n",
    "    \"ht\" : \"height\",\n",
    "    \"ibrb\" : \"i will be right back\",\n",
    "    \"ic\" : \"i see\",\n",
    "    \"icq\" : \"i seek you\",\n",
    "    \"icymi\" : \"in case you missed it\",\n",
    "    \"idc\" : \"i do not care\",\n",
    "    \"idgadf\" : \"i do not give a damn fuck\",\n",
    "    \"idgaf\" : \"i do not give a fuck\",\n",
    "    \"idk\" : \"i do not know\",\n",
    "    \"ie\" : \"that is\",\n",
    "    \"i.e\" : \"that is\",\n",
    "    \"ifyp\" : \"i feel your pain\",\n",
    "    \"IG\" : \"instagram\",\n",
    "    \"iirc\" : \"if i remember correctly\",\n",
    "    \"ilu\" : \"i love you\",\n",
    "    \"ily\" : \"i love you\",\n",
    "    \"imho\" : \"in my humble opinion\",\n",
    "    \"imo\" : \"in my opinion\",\n",
    "    \"imu\" : \"i miss you\",\n",
    "    \"iow\" : \"in other words\",\n",
    "    \"irl\" : \"in real life\",\n",
    "    \"j4f\" : \"just for fun\",\n",
    "    \"jic\" : \"just in case\",\n",
    "    \"jk\" : \"just kidding\",\n",
    "    \"jsyk\" : \"just so you know\",\n",
    "    \"l8r\" : \"later\",\n",
    "    \"lb\" : \"pound\",\n",
    "    \"lbs\" : \"pounds\",\n",
    "    \"ldr\" : \"long distance relationship\",\n",
    "    \"lmao\" : \"laugh my ass off\",\n",
    "    \"lmfao\" : \"laugh my fucking ass off\",\n",
    "    \"lol\" : \"laughing out loud\",\n",
    "    \"ltd\" : \"limited\",\n",
    "    \"ltns\" : \"long time no see\",\n",
    "    \"m8\" : \"mate\",\n",
    "    \"mf\" : \"motherfucker\",\n",
    "    \"mfs\" : \"motherfuckers\",\n",
    "    \"mfw\" : \"my face when\",\n",
    "    \"mofo\" : \"motherfucker\",\n",
    "    \"mph\" : \"miles per hour\",\n",
    "    \"mr\" : \"mister\",\n",
    "    \"mrw\" : \"my reaction when\",\n",
    "    \"ms\" : \"miss\",\n",
    "    \"mte\" : \"my thoughts exactly\",\n",
    "    \"nagi\" : \"not a good idea\",\n",
    "    \"nbc\" : \"national broadcasting company\",\n",
    "    \"nbd\" : \"not big deal\",\n",
    "    \"nfs\" : \"not for sale\",\n",
    "    \"ngl\" : \"not going to lie\",\n",
    "    \"nhs\" : \"national health service\",\n",
    "    \"nrn\" : \"no reply necessary\",\n",
    "    \"nsfl\" : \"not safe for life\",\n",
    "    \"nsfw\" : \"not safe for work\",\n",
    "    \"nth\" : \"nice to have\",\n",
    "    \"nvr\" : \"never\",\n",
    "    \"nyc\" : \"new york city\",\n",
    "    \"oc\" : \"original content\",\n",
    "    \"og\" : \"original\",\n",
    "    \"ohp\" : \"overhead projector\",\n",
    "    \"oic\" : \"oh i see\",\n",
    "    \"omdb\" : \"over my dead body\",\n",
    "    \"omg\" : \"oh my god\",\n",
    "    \"omw\" : \"on my way\",\n",
    "    \"p.a\" : \"per annum\",\n",
    "    \"p.m\" : \"after midday\",\n",
    "    \"pm\" : \"prime minister\",\n",
    "    \"poc\" : \"people of color\",\n",
    "    \"pov\" : \"point of view\",\n",
    "    \"pp\" : \"pages\",\n",
    "    \"ppl\" : \"people\",\n",
    "    \"prw\" : \"parents are watching\",\n",
    "    \"ps\" : \"postscript\",\n",
    "    \"pt\" : \"point\",\n",
    "    \"ptb\" : \"please text back\",\n",
    "    \"pto\" : \"please turn over\",\n",
    "    \"qpsa\" : \"what happens\", #\"que pasa\",\n",
    "    \"ratchet\" : \"rude\",\n",
    "    \"rbtl\" : \"read between the lines\",\n",
    "    \"rlrt\" : \"real life retweet\", \n",
    "    \"rofl\" : \"rolling on the floor laughing\",\n",
    "    \"roflol\" : \"rolling on the floor laughing out loud\",\n",
    "    \"rotflmao\" : \"rolling on the floor laughing my ass off\",\n",
    "    \"rt\" : \"retweet\",\n",
    "    \"ruok\" : \"are you ok\",\n",
    "    \"sfw\" : \"safe for work\",\n",
    "    \"sk8\" : \"skate\",\n",
    "    \"smh\" : \"shake my head\",\n",
    "    \"sq\" : \"square\",\n",
    "    \"srsly\" : \"seriously\", \n",
    "    \"ssdd\" : \"same stuff different day\",\n",
    "    \"tbh\" : \"to be honest\",\n",
    "    \"tbs\" : \"tablespooful\",\n",
    "    \"tbsp\" : \"tablespooful\",\n",
    "    \"tfw\" : \"that feeling when\",\n",
    "    \"thks\" : \"thank you\",\n",
    "    \"tho\" : \"though\",\n",
    "    \"thx\" : \"thank you\",\n",
    "    \"tia\" : \"thanks in advance\",\n",
    "    \"til\" : \"today i learned\",\n",
    "    \"tl;dr\" : \"too long i did not read\",\n",
    "    \"tldr\" : \"too long i did not read\",\n",
    "    \"tmb\" : \"tweet me back\",\n",
    "    \"tntl\" : \"trying not to laugh\",\n",
    "    \"ttyl\" : \"talk to you later\",\n",
    "    \"u\" : \"you\",\n",
    "    \"u2\" : \"you too\",\n",
    "    \"u4e\" : \"yours for ever\",\n",
    "    \"utc\" : \"coordinated universal time\",\n",
    "    \"w/\" : \"with\",\n",
    "    \"w/o\" : \"without\",\n",
    "    \"w8\" : \"wait\",\n",
    "    \"wassup\" : \"what is up\",\n",
    "    \"wb\" : \"welcome back\",\n",
    "    \"wtf\" : \"what the fuck\",\n",
    "    \"wtg\" : \"way to go\",\n",
    "    \"wtpa\" : \"where the party at\",\n",
    "    \"wuf\" : \"where are you from\",\n",
    "    \"wuzup\" : \"what is up\",\n",
    "    \"wywh\" : \"wish you were here\",\n",
    "    \"yd\" : \"yard\",\n",
    "    \"ygtr\" : \"you got that right\",\n",
    "    \"ynk\" : \"you never know\",\n",
    "    \"zzz\" : \"sleeping bored and tired\"\n",
    "}"
   ]
  },
  {
   "cell_type": "code",
   "execution_count": 136,
   "id": "b9fe745d",
   "metadata": {
    "execution": {
     "iopub.execute_input": "2022-12-21T08:10:13.780060Z",
     "iopub.status.busy": "2022-12-21T08:10:13.779201Z",
     "iopub.status.idle": "2022-12-21T08:10:13.795186Z",
     "shell.execute_reply": "2022-12-21T08:10:13.795655Z",
     "shell.execute_reply.started": "2022-12-21T07:36:38.778632Z"
    },
    "papermill": {
     "duration": 1.334334,
     "end_time": "2022-12-21T08:10:13.795822",
     "exception": false,
     "start_time": "2022-12-21T08:10:12.461488",
     "status": "completed"
    },
    "tags": []
   },
   "outputs": [],
   "source": [
    "#remove \n",
    "def remove_URL(text):\n",
    "    url = re.compile(r'https?://\\S+|www\\.\\S+')\n",
    "    return url.sub(r'URL',str(text))\n",
    "\n",
    "\n",
    "\n",
    "def remove_HTML(text):\n",
    "    html=re.compile(r'<.*?>')\n",
    "    return html.sub(r'',text)\n",
    "\n",
    "def remove_not_ASCII(text):\n",
    "    text = ''.join([word for word in text if word in string.printable])\n",
    "    return text\n",
    "\n",
    "\n",
    "def word_abbrev(word):\n",
    "    return abbreviations[word.lower()] if word.lower() in abbreviations.keys() else word\n",
    "\n",
    "\n",
    "def replace_abbrev(text):\n",
    "    string = \"\"\n",
    "    for word in text.split():\n",
    "        string += word_abbrev(word) + \" \"        \n",
    "    return string\n",
    "\n",
    "\n",
    "def remove_mention(text):\n",
    "    at=re.compile(r'@\\S+')\n",
    "    return at.sub(r'USER',text)\n",
    "                     \n",
    "\n",
    "\n",
    "def remove_number(text):\n",
    "    num = re.compile(r'[-+]?[.\\d]*[\\d]+[:,.\\d]*')\n",
    "    return num.sub(r'NUMBER', text)\n",
    "\n",
    "\n",
    "def transcription_sad(text):\n",
    "    eyes = \"[8:=;]\"\n",
    "    nose = \"['`\\-]\"\n",
    "    smiley = re.compile(r'[8:=;][\\'\\-]?[(\\\\/]')\n",
    "    return smiley.sub(r'SADFACE', text)\n",
    "\n",
    "\n",
    "def transcription_smile(text):\n",
    "    eyes = \"[8:=;]\"\n",
    "    nose = \"['`\\-]\"\n",
    "    smiley = re.compile(r'[8:=;][\\'\\-]?[)dDp]')\n",
    "    return smiley.sub(r'SMILE', text)\n",
    "\n",
    "\n",
    "\n",
    "def transcription_heart(text):\n",
    "    heart = re.compile(r'<3')\n",
    "    return heart.sub(r'HEART', text)\n",
    "\n",
    "\n",
    "\n",
    "def remove_elongated_words(text):\n",
    "    rep = re.compile(r'\\b(\\S*?)([a-z])\\2{2,}\\b')\n",
    "    return rep.sub(r'\\1\\2 ELONG', text)\n",
    "\n",
    "\n",
    "def remove_repeat_punct(text):\n",
    "    rep = re.compile(r'([!?.]){2,}')\n",
    "    return rep.sub(r'\\1 REPEAT', text)\n",
    "\n",
    "\n",
    "def remove_all_punct(text):\n",
    "    table = str.maketrans('','',string.punctuation)\n",
    "    return text.translate(table)\n",
    "\n",
    "\n",
    "def remove_punct(text):\n",
    "    punctuations = '@#!?+&*[]-%.:/();$=><|{}^' + \"'`\" \n",
    "    for p in punctuations:\n",
    "        text = text.replace(p, f' {p} ')\n",
    "\n",
    "    text = text.replace('...', ' ... ')\n",
    "    if '...' not in text:\n",
    "        text = text.replace('..', ' ... ')   \n",
    "    return text\n",
    "\n",
    "\n",
    "def remove_stopwords(text):\n",
    "    text = ' '.join([word for word in text.split() if word not in stopwords.words(\"english\")])\n",
    "    return text\n",
    "\n",
    "def stemming(text):\n",
    "    ps = PorterStemmer()\n",
    "    text = ' '.join([ps.stem(word) for word in text.split()])\n",
    "    return text\n",
    "\n",
    "def lemmatization(text):\n",
    "    lm= WordNetLemmatizer()\n",
    "    text = ' '.join([lm.lemmatize(word, pos='v') for word in text.split()])\n",
    "    return text\n"
   ]
  },
  {
   "cell_type": "code",
   "execution_count": 137,
   "id": "735b2210",
   "metadata": {
    "execution": {
     "iopub.execute_input": "2022-12-21T08:10:16.563380Z",
     "iopub.status.busy": "2022-12-21T08:10:16.562309Z",
     "iopub.status.idle": "2022-12-21T08:10:16.564474Z",
     "shell.execute_reply": "2022-12-21T08:10:16.565113Z",
     "shell.execute_reply.started": "2022-12-21T07:36:42.467034Z"
    },
    "papermill": {
     "duration": 1.401826,
     "end_time": "2022-12-21T08:10:16.565297",
     "exception": false,
     "start_time": "2022-12-21T08:10:15.163471",
     "status": "completed"
    },
    "tags": []
   },
   "outputs": [],
   "source": [
    "def clean_text(text):\n",
    "    \n",
    "    text = remove_URL(text)\n",
    "    text = remove_HTML(text)\n",
    "    text = remove_not_ASCII(text)\n",
    "    \n",
    "    text = replace_abbrev(text)  \n",
    "    text = remove_mention(text)\n",
    "    text = remove_number(text)\n",
    "\n",
    "    text = transcription_sad(text)\n",
    "    text = transcription_smile(text)\n",
    "    text = transcription_heart(text)\n",
    "    \n",
    "    text = remove_elongated_words(text)\n",
    "    text = remove_repeat_punct(text)\n",
    "\n",
    "    text = remove_all_punct(text)\n",
    "    text = remove_punct(text)\n",
    "    text = lemmatization(text)\n",
    "    text = text.lower()\n",
    "\n",
    "    return text"
   ]
  },
  {
   "cell_type": "code",
   "execution_count": 138,
   "id": "37af01ef",
   "metadata": {
    "execution": {
     "iopub.execute_input": "2022-12-21T08:10:19.369114Z",
     "iopub.status.busy": "2022-12-21T08:10:19.368534Z",
     "iopub.status.idle": "2022-12-21T08:11:04.516755Z",
     "shell.execute_reply": "2022-12-21T08:11:04.513524Z",
     "shell.execute_reply.started": "2022-12-21T07:36:44.478561Z"
    },
    "papermill": {
     "duration": 46.504672,
     "end_time": "2022-12-21T08:11:04.517106",
     "exception": false,
     "start_time": "2022-12-21T08:10:18.012434",
     "status": "completed"
    },
    "tags": []
   },
   "outputs": [],
   "source": [
    "df[\"clean_comment\"] = df[\"clean_comment\"].apply(clean_text)"
   ]
  },
  {
   "cell_type": "code",
   "execution_count": 139,
   "id": "3a7c8b2c",
   "metadata": {
    "execution": {
     "iopub.execute_input": "2022-12-21T08:11:10.222751Z",
     "iopub.status.busy": "2022-12-21T08:11:10.217197Z",
     "iopub.status.idle": "2022-12-21T08:11:10.273293Z",
     "shell.execute_reply": "2022-12-21T08:11:10.272843Z",
     "shell.execute_reply.started": "2022-12-21T07:37:21.542696Z"
    },
    "papermill": {
     "duration": 1.403558,
     "end_time": "2022-12-21T08:11:10.273497",
     "exception": false,
     "start_time": "2022-12-21T08:11:08.869939",
     "status": "completed"
    },
    "tags": []
   },
   "outputs": [],
   "source": [
    "g=[]\n",
    "for i in df['clean_comment']:\n",
    "    g.append(i)"
   ]
  },
  {
   "cell_type": "code",
   "execution_count": 140,
   "id": "4fb25d98",
   "metadata": {
    "execution": {
     "iopub.execute_input": "2022-12-21T08:11:13.199512Z",
     "iopub.status.busy": "2022-12-21T08:11:13.193811Z",
     "iopub.status.idle": "2022-12-21T08:11:13.235899Z",
     "shell.execute_reply": "2022-12-21T08:11:13.235312Z",
     "shell.execute_reply.started": "2022-12-21T07:37:21.596676Z"
    },
    "papermill": {
     "duration": 1.433446,
     "end_time": "2022-12-21T08:11:13.236098",
     "exception": false,
     "start_time": "2022-12-21T08:11:11.802652",
     "status": "completed"
    },
    "tags": []
   },
   "outputs": [
    {
     "name": "stdout",
     "output_type": "stream",
     "text": [
      "Maximum sequence length in the list of sentences: 8376\n"
     ]
    }
   ],
   "source": [
    "maxl = max([len(s) for s in g])\n",
    "print ('Maximum sequence length in the list of sentences:', maxl)"
   ]
  },
  {
   "cell_type": "code",
   "execution_count": 141,
   "id": "446e05ba",
   "metadata": {
    "execution": {
     "iopub.execute_input": "2022-12-21T08:11:19.329549Z",
     "iopub.status.busy": "2022-12-21T08:11:19.325780Z",
     "iopub.status.idle": "2022-12-21T08:11:26.067083Z",
     "shell.execute_reply": "2022-12-21T08:11:26.066609Z",
     "shell.execute_reply.started": "2022-12-21T07:37:21.639235Z"
    },
    "papermill": {
     "duration": 8.630159,
     "end_time": "2022-12-21T08:11:26.067272",
     "exception": false,
     "start_time": "2022-12-21T08:11:17.437113",
     "status": "completed"
    },
    "tags": []
   },
   "outputs": [
    {
     "name": "stdout",
     "output_type": "stream",
     "text": [
      "Found 116600 unique tokens.\n"
     ]
    }
   ],
   "source": [
    "tokenizer = Tokenizer(num_words=50000, filters='!\"#$%&()*+,-./:;<=>?@[\\]^_`{|}~', lower=True)\n",
    "tokenizer.fit_on_texts(df['clean_comment'].values)\n",
    "word_index = tokenizer.word_index\n",
    "print('Found %s unique tokens.' % len(word_index))"
   ]
  },
  {
   "cell_type": "code",
   "execution_count": 142,
   "id": "f505c1bf",
   "metadata": {},
   "outputs": [],
   "source": [
    "maxl = 1000\n",
    "X = tokenizer.texts_to_sequences(df['clean_comment'].values)\n",
    "X = pad_sequences(X, maxlen=maxl)"
   ]
  },
  {
   "cell_type": "code",
   "execution_count": 143,
   "id": "655e5384",
   "metadata": {
    "execution": {
     "iopub.execute_input": "2022-12-21T08:11:42.490487Z",
     "iopub.status.busy": "2022-12-21T08:11:42.489856Z",
     "iopub.status.idle": "2022-12-21T08:11:42.512830Z",
     "shell.execute_reply": "2022-12-21T08:11:42.513421Z",
     "shell.execute_reply.started": "2022-12-21T07:37:32.114185Z"
    },
    "papermill": {
     "duration": 2.023356,
     "end_time": "2022-12-21T08:11:42.513593",
     "exception": false,
     "start_time": "2022-12-21T08:11:40.490237",
     "status": "completed"
    },
    "tags": []
   },
   "outputs": [],
   "source": [
    "Y = pd.get_dummies(df['category'],columns=df[\"category\"]).values"
   ]
  },
  {
   "cell_type": "code",
   "execution_count": 144,
   "id": "9553151a",
   "metadata": {
    "execution": {
     "iopub.execute_input": "2022-12-21T08:11:53.319232Z",
     "iopub.status.busy": "2022-12-21T08:11:53.318004Z",
     "iopub.status.idle": "2022-12-21T08:11:59.607102Z",
     "shell.execute_reply": "2022-12-21T08:11:59.606534Z",
     "shell.execute_reply.started": "2022-12-21T07:37:32.148640Z"
    },
    "papermill": {
     "duration": 7.627428,
     "end_time": "2022-12-21T08:11:59.607259",
     "exception": false,
     "start_time": "2022-12-21T08:11:51.979831",
     "status": "completed"
    },
    "tags": []
   },
   "outputs": [
    {
     "name": "stdout",
     "output_type": "stream",
     "text": [
      "WARNING:tensorflow:Layer lstm_3 will not use cuDNN kernels since it doesn't meet the criteria. It will use a generic GPU kernel as fallback when running on GPU.\n"
     ]
    },
    {
     "name": "stderr",
     "output_type": "stream",
     "text": [
      "C:\\Users\\IDEA Lab\\AppData\\Local\\Programs\\Python\\Python310\\lib\\site-packages\\keras\\optimizers\\optimizer_v2\\adam.py:110: UserWarning: The `lr` argument is deprecated, use `learning_rate` instead.\n",
      "  super(Adam, self).__init__(name, **kwargs)\n"
     ]
    }
   ],
   "source": [
    "import tensorflow as tf\n",
    "\n",
    "adam = optimizers.Adam(lr=0.001)\n",
    "model=tf.keras.models.Sequential()\n",
    "model.add(tf.keras.layers.Embedding(1000,128,input_length=maxl))\n",
    "model.add(tf.keras.layers.SpatialDropout1D(0.2))\n",
    "model.add(tf.keras.layers.LSTM(128, dropout=0.2, recurrent_dropout=0.2))\n",
    "model.add(tf.keras.layers.Dense(3, activation='softmax'))\n",
    "model.compile(loss='categorical_crossentropy', optimizer=adam, metrics=['accuracy'])"
   ]
  },
  {
   "cell_type": "code",
   "execution_count": 145,
   "id": "fc67565b",
   "metadata": {
    "execution": {
     "iopub.execute_input": "2022-12-21T08:12:05.451279Z",
     "iopub.status.busy": "2022-12-21T08:12:05.450730Z",
     "iopub.status.idle": "2022-12-21T08:12:05.456687Z",
     "shell.execute_reply": "2022-12-21T08:12:05.457109Z",
     "shell.execute_reply.started": "2022-12-21T07:37:38.097854Z"
    },
    "papermill": {
     "duration": 1.423842,
     "end_time": "2022-12-21T08:12:05.457277",
     "exception": false,
     "start_time": "2022-12-21T08:12:04.033435",
     "status": "completed"
    },
    "tags": []
   },
   "outputs": [
    {
     "name": "stdout",
     "output_type": "stream",
     "text": [
      "Model: \"sequential_3\"\n",
      "_________________________________________________________________\n",
      " Layer (type)                Output Shape              Param #   \n",
      "=================================================================\n",
      " embedding_3 (Embedding)     (None, 1000, 128)         128000    \n",
      "                                                                 \n",
      " spatial_dropout1d_3 (Spatia  (None, 1000, 128)        0         \n",
      " lDropout1D)                                                     \n",
      "                                                                 \n",
      " lstm_3 (LSTM)               (None, 128)               131584    \n",
      "                                                                 \n",
      " dense_3 (Dense)             (None, 3)                 387       \n",
      "                                                                 \n",
      "=================================================================\n",
      "Total params: 259,971\n",
      "Trainable params: 259,971\n",
      "Non-trainable params: 0\n",
      "_________________________________________________________________\n"
     ]
    }
   ],
   "source": [
    "model.summary()"
   ]
  },
  {
   "cell_type": "code",
   "execution_count": 146,
   "id": "ec76fc7b",
   "metadata": {
    "execution": {
     "iopub.execute_input": "2022-12-21T08:12:29.705770Z",
     "iopub.status.busy": "2022-12-21T08:12:29.705177Z",
     "iopub.status.idle": "2022-12-21T08:12:30.639173Z",
     "shell.execute_reply": "2022-12-21T08:12:30.636651Z",
     "shell.execute_reply.started": "2022-12-21T07:37:39.327237Z"
    },
    "papermill": {
     "duration": 2.441356,
     "end_time": "2022-12-21T08:12:30.639665",
     "exception": false,
     "start_time": "2022-12-21T08:12:28.198309",
     "status": "completed"
    },
    "tags": []
   },
   "outputs": [],
   "source": [
    "from sklearn.model_selection import train_test_split\n",
    "train_x, test_x , train_y, test_y = train_test_split(X, Y, test_size=.3)"
   ]
  },
  {
   "cell_type": "code",
   "execution_count": 147,
   "id": "5404fed3",
   "metadata": {
    "execution": {
     "iopub.execute_input": "2022-12-21T08:12:36.188659Z",
     "iopub.status.busy": "2022-12-21T08:12:36.188061Z",
     "iopub.status.idle": "2022-12-21T08:31:22.648933Z",
     "shell.execute_reply": "2022-12-21T08:31:22.649504Z",
     "shell.execute_reply.started": "2022-12-21T07:37:39.813398Z"
    },
    "papermill": {
     "duration": 1127.799244,
     "end_time": "2022-12-21T08:31:22.649701",
     "exception": false,
     "start_time": "2022-12-21T08:12:34.850457",
     "status": "completed"
    },
    "tags": []
   },
   "outputs": [
    {
     "name": "stdout",
     "output_type": "stream",
     "text": [
      "Epoch 1/3\n",
      "548/548 [==============================] - 2783s 5s/step - loss: 0.5964 - accuracy: 0.7686\n",
      "Epoch 2/3\n",
      "548/548 [==============================] - 2762s 5s/step - loss: 0.5006 - accuracy: 0.8202\n",
      "Epoch 3/3\n",
      "548/548 [==============================] - 2783s 5s/step - loss: 0.4842 - accuracy: 0.8239\n"
     ]
    }
   ],
   "source": [
    "from tensorflow.keras.callbacks import EarlyStopping\n",
    "history = model.fit(train_x, train_y, epochs=3, batch_size=256)"
   ]
  },
  {
   "cell_type": "code",
   "execution_count": 148,
   "id": "b1036de5",
   "metadata": {},
   "outputs": [],
   "source": [
    "model.save('./my_model.h5')"
   ]
  },
  {
   "cell_type": "code",
   "execution_count": 150,
   "id": "cfeda6bd",
   "metadata": {},
   "outputs": [
    {
     "name": "stdout",
     "output_type": "stream",
     "text": [
      "INFO:tensorflow:Assets written to: ram://30758e18-73d2-4a00-86c6-1dc3e8572009/assets\n"
     ]
    }
   ],
   "source": [
    "import pickle\n",
    "\n",
    "with open('model.pkl', 'wb') as f:\n",
    "    pickle.dump(history, f)\n"
   ]
  },
  {
   "cell_type": "code",
   "execution_count": 151,
   "id": "bcd103d5",
   "metadata": {
    "execution": {
     "iopub.execute_input": "2022-12-21T08:31:41.558306Z",
     "iopub.status.busy": "2022-12-21T08:31:41.557459Z",
     "iopub.status.idle": "2022-12-21T08:31:41.732012Z",
     "shell.execute_reply": "2022-12-21T08:31:41.732689Z",
     "shell.execute_reply.started": "2022-12-21T07:56:04.007252Z"
    },
    "papermill": {
     "duration": 3.289102,
     "end_time": "2022-12-21T08:31:41.732845",
     "exception": false,
     "start_time": "2022-12-21T08:31:38.443743",
     "status": "completed"
    },
    "tags": []
   },
   "outputs": [
    {
     "data": {
      "image/png": "[encoded data removed]",
      "text/plain": [
       "<Figure size 432x288 with 1 Axes>"
      ]
     },
     "metadata": {
      "needs_background": "light"
     },
     "output_type": "display_data"
    }
   ],
   "source": [
    "plt.title('Loss')\n",
    "plt.plot(history.history['loss'], label='train')\n",
    "plt.legend()\n",
    "plt.show();"
   ]
  },
  {
   "cell_type": "code",
   "execution_count": 153,
   "id": "075c0581",
   "metadata": {
    "execution": {
     "iopub.execute_input": "2022-12-21T08:31:54.277853Z",
     "iopub.status.busy": "2022-12-21T08:31:54.277215Z",
     "iopub.status.idle": "2022-12-21T08:31:54.437707Z",
     "shell.execute_reply": "2022-12-21T08:31:54.438152Z",
     "shell.execute_reply.started": "2022-12-21T07:56:04.208403Z"
    },
    "papermill": {
     "duration": 3.324474,
     "end_time": "2022-12-21T08:31:54.438292",
     "exception": false,
     "start_time": "2022-12-21T08:31:51.113818",
     "status": "completed"
    },
    "tags": []
   },
   "outputs": [
    {
     "data": {
      "image/png": "[encoded data removed]",
      "text/plain": [
       "<Figure size 432x288 with 1 Axes>"
      ]
     },
     "metadata": {
      "needs_background": "light"
     },
     "output_type": "display_data"
    }
   ],
   "source": [
    "plt.title('Accuracy')\n",
    "plt.plot(history.history['accuracy'], label='train')\n",
    "plt.legend()\n",
    "plt.show();"
   ]
  },
  {
   "cell_type": "code",
   "execution_count": 155,
   "id": "a6d5dcec",
   "metadata": {
    "execution": {
     "iopub.execute_input": "2022-12-21T08:32:13.291614Z",
     "iopub.status.busy": "2022-12-21T08:32:13.290870Z",
     "iopub.status.idle": "2022-12-21T08:33:18.255161Z",
     "shell.execute_reply": "2022-12-21T08:33:18.255627Z",
     "shell.execute_reply.started": "2022-12-21T07:56:04.387818Z"
    },
    "papermill": {
     "duration": 68.122083,
     "end_time": "2022-12-21T08:33:18.255823",
     "exception": false,
     "start_time": "2022-12-21T08:32:10.133740",
     "status": "completed"
    },
    "tags": []
   },
   "outputs": [
    {
     "name": "stdout",
     "output_type": "stream",
     "text": [
      "1877/1877 [==============================] - 1282s 683ms/step\n"
     ]
    },
    {
     "data": {
      "image/png": "[encoded data removed]",
      "text/plain": [
       "<Figure size 432x288 with 1 Axes>"
      ]
     },
     "metadata": {
      "needs_background": "light"
     },
     "output_type": "display_data"
    }
   ],
   "source": [
    "from sklearn.metrics import roc_curve, plot_roc_curve\n",
    "fpr, tpr, _ = roc_curve(test_y.argmax(axis=1),model.predict(test_x).argmax(axis=1), pos_label=2)\n",
    "plt.plot(fpr,tpr)\n",
    "plt.title(\"ROC plot\")\n",
    "plt.ylabel('True Positive Rate')\n",
    "plt.xlabel('False Positive Rate')\n",
    "plt.show()"
   ]
  },
  {
   "cell_type": "code",
   "execution_count": 157,
   "id": "97092d97",
   "metadata": {
    "execution": {
     "iopub.execute_input": "2022-12-21T08:33:37.335039Z",
     "iopub.status.busy": "2022-12-21T08:33:37.334493Z",
     "iopub.status.idle": "2022-12-21T08:34:41.219143Z",
     "shell.execute_reply": "2022-12-21T08:34:41.219581Z",
     "shell.execute_reply.started": "2022-12-21T07:57:06.034815Z"
    },
    "papermill": {
     "duration": 66.989554,
     "end_time": "2022-12-21T08:34:41.219719",
     "exception": false,
     "start_time": "2022-12-21T08:33:34.230165",
     "status": "completed"
    },
    "tags": []
   },
   "outputs": [
    {
     "name": "stdout",
     "output_type": "stream",
     "text": [
      "1877/1877 [==============================] - 1323s 704ms/step\n"
     ]
    },
    {
     "data": {
      "image/png": "[encoded data removed]",
      "text/plain": [
       "<Figure size 432x288 with 2 Axes>"
      ]
     },
     "metadata": {
      "needs_background": "light"
     },
     "output_type": "display_data"
    }
   ],
   "source": [
    "from sklearn.metrics import confusion_matrix, plot_confusion_matrix, f1_score, ConfusionMatrixDisplay, accuracy_score, roc_auc_score\n",
    "cm_rm_2 = confusion_matrix((test_y).argmax(axis=1),model.predict(test_x).argmax(axis=1))\n",
    "disp = ConfusionMatrixDisplay(confusion_matrix=cm_rm_2)\n",
    "disp.plot(cmap=plt.cm.Blues)\n",
    "plt.show()"
   ]
  }
 ],
 "metadata": {
  "kernelspec": {
   "display_name": "Python 3 (ipykernel)",
   "language": "python",
   "name": "python3"
  },
  "language_info": {
   "codemirror_mode": {
    "name": "ipython",
    "version": 3
   },
   "file_extension": ".py",
   "mimetype": "text/x-python",
   "name": "python",
   "nbconvert_exporter": "python",
   "pygments_lexer": "ipython3",
   "version": "3.10.7"
  },
  "papermill": {
   "default_parameters": {},
   "duration": 1748.992457,
   "end_time": "2022-12-21T08:36:15.767216",
   "environment_variables": {},
   "exception": null,
   "input_path": "__notebook__.ipynb",
   "output_path": "__notebook__.ipynb",
   "parameters": {},
   "start_time": "2022-12-21T08:07:06.774759",
   "version": "2.3.3"
  }
 },
 "nbformat": 4,
 "nbformat_minor": 5
}
