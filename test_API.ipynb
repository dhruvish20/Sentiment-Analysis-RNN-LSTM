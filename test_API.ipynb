{
 "cells": [
  {
   "cell_type": "code",
   "execution_count": 21,
   "id": "e7741825",
   "metadata": {},
   "outputs": [],
   "source": [
    "from tensorflow.keras.models import load_model\n",
    "import tensorflow as tf\n",
    "\n",
    "# Load the model from the saved file\n",
    "model = load_model('my_model.h5')\n"
   ]
  },
  {
   "cell_type": "code",
   "execution_count": 39,
   "id": "3de70ad9",
   "metadata": {
    "scrolled": true
   },
   "outputs": [
    {
     "name": "stdout",
     "output_type": "stream",
     "text": [
      "1/1 [==============================] - 0s 169ms/step\n",
      "[[0.08517073 0.84518045 0.06964877]]\n",
      "1/1 [==============================] - 0s 173ms/step\n",
      "[[0.131892   0.70518214 0.16292582]]\n"
     ]
    }
   ],
   "source": [
    "import numpy as np\n",
    "\n",
    "def predict_this(text):\n",
    "    tokenizer = tf.keras.preprocessing.text.Tokenizer(num_words=1000)\n",
    "    tokenizer.fit_on_texts([text])\n",
    "    text_sequence = tokenizer.texts_to_sequences([text])[0]\n",
    "\n",
    "    # Pad the sequence so that it has the same length as the `input_length` parameter of the Embedding layer\n",
    "    maxl = model.layers[0].input_length\n",
    "    text_sequence = tf.keras.preprocessing.sequence.pad_sequences([text_sequence], maxlen=maxl)\n",
    "\n",
    "    # Convert the padded sequence to a numpy array\n",
    "    input_data = np.array(text_sequence)\n",
    "    prediction1 = model.predict(input_data)\n",
    "    #max_index = np.argmax(prediction1)\n",
    "    #class_labels = ['class1', 'class2', 'class3']\n",
    "    #predicted_label = class_labels[max_index]\n",
    "    return prediction1\n",
    "\n",
    "# Make the prediction'\n",
    "prediction =predict_this(\"with upcoming election india saga going important pair look current modi leads govt elected with deal brexit combination this weekly looks juicy bears imho \")\n",
    "print(prediction)\n",
    "prediction_1 =predict_this(\"modi govts slashing indias education budget clear indicator that they dont care for indias future congress president shri the other hand has ensured the increase the budget gdp this the future india deserves \")\n",
    "print(prediction_1)\n",
    "\n"
   ]
  },
  {
   "cell_type": "code",
   "execution_count": null,
   "id": "c069fc00",
   "metadata": {},
   "outputs": [],
   "source": []
  }
 ],
 "metadata": {
  "kernelspec": {
   "display_name": "Python 3 (ipykernel)",
   "language": "python",
   "name": "python3"
  },
  "language_info": {
   "codemirror_mode": {
    "name": "ipython",
    "version": 3
   },
   "file_extension": ".py",
   "mimetype": "text/x-python",
   "name": "python",
   "nbconvert_exporter": "python",
   "pygments_lexer": "ipython3",
   "version": "3.10.7"
  }
 },
 "nbformat": 4,
 "nbformat_minor": 5
}
